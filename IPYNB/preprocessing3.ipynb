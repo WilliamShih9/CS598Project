{
  "nbformat": 4,
  "nbformat_minor": 0,
  "metadata": {
    "colab": {
      "provenance": [],
      "machine_shape": "hm",
      "gpuType": "T4"
    },
    "kernelspec": {
      "name": "python3",
      "display_name": "Python 3"
    },
    "language_info": {
      "name": "python"
    },
    "accelerator": "GPU",
    "gpuClass": "standard"
  },
  "cells": [
    {
      "cell_type": "code",
      "source": [
        "from google.colab import drive\n",
        "\n",
        "drive.mount('/content/gdrive')"
      ],
      "metadata": {
        "colab": {
          "base_uri": "https://localhost:8080/"
        },
        "id": "8ILECva7iDY5",
        "outputId": "1a87ed60-647f-4969-cb4b-265ce30000ff"
      },
      "execution_count": 1,
      "outputs": [
        {
          "output_type": "stream",
          "name": "stdout",
          "text": [
            "Mounted at /content/gdrive\n"
          ]
        }
      ]
    },
    {
      "cell_type": "code",
      "source": [
        "import os\n",
        "print(os.getcwd())\n",
        "os.chdir(\"/content/gdrive/My Drive/Colab Notebooks\")\n",
        "print(os.getcwd())"
      ],
      "metadata": {
        "colab": {
          "base_uri": "https://localhost:8080/"
        },
        "id": "1igFKzstiFL8",
        "outputId": "fb36544f-f433-4033-fb16-63d69a7aa555"
      },
      "execution_count": 2,
      "outputs": [
        {
          "output_type": "stream",
          "name": "stdout",
          "text": [
            "/content\n",
            "/content/gdrive/My Drive/Colab Notebooks\n"
          ]
        }
      ]
    },
    {
      "cell_type": "code",
      "execution_count": 3,
      "metadata": {
        "id": "6f6D9SEkGUWb"
      },
      "outputs": [],
      "source": [
        "import numpy as np\n",
        "from collections import defaultdict\n",
        "from sklearn.model_selection import train_test_split\n",
        "import codecs\n",
        "\n",
        "\n",
        "##########################################################\n",
        "wikivoc={}\n",
        "codewiki=defaultdict(list)\n",
        "\n",
        "file2=codecs.open(\"wikipedia_knowledge\",'r','utf-8')\n",
        "line=file2.readline()\n",
        "count=0\n",
        "while line:\n",
        "    if line[0:4]=='XXXd':\n",
        "        line=line.strip('\\n')\n",
        "        line=line.split()\n",
        "        for i in line:\n",
        "            if i[0:2]=='d_':\n",
        "                codewiki[i].append(count)\n",
        "                wikivoc[i]=1\n",
        "        count=count+1\n",
        "    line=file2.readline()\n",
        "\n",
        "################### four codes have two wikidocuments, correct them\n",
        "codewiki['d_072']=[214]\n",
        "codewiki['d_698']=[125]\n",
        "codewiki['d_305']=[250]\n",
        "codewiki['d_386']=[219]\n",
        "np.save('wikivoc',wikivoc)"
      ]
    },
    {
      "cell_type": "code",
      "source": [
        "filec=codecs.open(\"combined_dataset\",'r','utf-8')\n",
        "\n",
        "line=filec.readline()\n",
        "\n",
        "feature=[]\n",
        "label=[]\n",
        "\n",
        "while line:\n",
        "    line=line.strip('\\n')\n",
        "    line=line.split()\n",
        "    \n",
        "    if line[0]=='codes:':\n",
        "        temp=line[1:]\n",
        "        label.append(temp)\n",
        "        line=filec.readline()\n",
        "        line=line.strip('\\n')\n",
        "        line=line.split()\n",
        "        if  line[0]=='notes:':\n",
        "            tempf=[]\n",
        "            line=filec.readline()\n",
        "           \n",
        "            while line!='end!\\n':\n",
        "                line=line.strip('\\n')\n",
        "                line=line.split()\n",
        "                tempf=tempf+line\n",
        "                line=filec.readline()\n",
        "            feature.append(tempf)\n",
        "    line=filec.readline()\n",
        "\n",
        "\n",
        "prevoc={}\n",
        "for i in label:\n",
        "    for j in i:\n",
        "        if j not in prevoc:\n",
        "            prevoc[j]=len(prevoc)\n"
      ],
      "metadata": {
        "id": "TB8mJ3DZGdN_"
      },
      "execution_count": 4,
      "outputs": []
    },
    {
      "cell_type": "code",
      "source": [
        "notevec=np.load('notevec.npy')\n",
        "wikivec=np.load('wikivec.npy')\n",
        "label_to_ix = {}\n",
        "ix_to_label={}\n",
        "\n",
        "\n",
        "for codes in label:\n",
        "    for code in codes:\n",
        "        if code not in label_to_ix:\n",
        "            label_to_ix[code]=len(label_to_ix)\n",
        "            ix_to_label[label_to_ix[code]]=code\n",
        "\n",
        "tempwikivec=[]\n",
        "\n",
        "for i in range(0,len(ix_to_label)):\n",
        "    if ix_to_label[i] in wikivoc:\n",
        "        temp=wikivec[codewiki[ix_to_label[i]][0]]\n",
        "        tempwikivec.append(temp)\n",
        "    else:\n",
        "        tempwikivec.append([0.0]*wikivec.shape[1])\n",
        "wikivec=np.array(tempwikivec)\n"
      ],
      "metadata": {
        "id": "n0if2H5MGkHJ"
      },
      "execution_count": 5,
      "outputs": []
    },
    {
      "cell_type": "code",
      "source": [
        "####################################\n",
        "\n",
        "data=[]\n",
        "for i in range(0,len(feature)):\n",
        "    data.append((feature[i], notevec[i], label[i]))\n",
        "    \n",
        "data=np.array(data)  \n",
        "\n",
        "label_to_ix = {}\n",
        "ix_to_label={}\n",
        "\n",
        "for doc, note, codes in data:\n",
        "    for code in codes:\n",
        "        if code not in label_to_ix:\n",
        "            if code in wikivoc:\n",
        "                label_to_ix[code]=len(label_to_ix)\n",
        "                ix_to_label[label_to_ix[code]]=code\n",
        "\n",
        "np.save('label_to_ix',label_to_ix)\n",
        "np.save('ix_to_label',ix_to_label)\n",
        "\n",
        "training_data, test_data = train_test_split(data, test_size=0.2, random_state=42)\n",
        "training_data, val_data = train_test_split(training_data, test_size=0.125, random_state=42)\n",
        "\n",
        "np.save('training_data',training_data)\n",
        "np.save('test_data',test_data)\n",
        "np.save('val_data',val_data)"
      ],
      "metadata": {
        "id": "vz9XDD3-Gn0z",
        "colab": {
          "base_uri": "https://localhost:8080/"
        },
        "outputId": "45222adf-584b-456a-88f5-23c7c560300b"
      },
      "execution_count": 6,
      "outputs": [
        {
          "output_type": "stream",
          "name": "stderr",
          "text": [
            "<ipython-input-6-622c9f758d12>:7: VisibleDeprecationWarning: Creating an ndarray from ragged nested sequences (which is a list-or-tuple of lists-or-tuples-or ndarrays with different lengths or shapes) is deprecated. If you meant to do this, you must specify 'dtype=object' when creating the ndarray.\n",
            "  data=np.array(data)\n"
          ]
        }
      ]
    },
    {
      "cell_type": "code",
      "source": [
        "\n",
        "word_to_ix = {}\n",
        "ix_to_word={}\n",
        "ix_to_word[0]='OUT'\n",
        "\n",
        "\n",
        "for doc, note, codes in training_data:\n",
        "    for word in doc:\n",
        "        if word not in word_to_ix:\n",
        "            word_to_ix[word] = len(word_to_ix)+1\n",
        "            ix_to_word[word_to_ix[word]]=word  \n",
        "    \n",
        "np.save('word_to_ix',word_to_ix)\n",
        "np.save('ix_to_word',ix_to_word)\n",
        "\n",
        "newwikivec=[]\n",
        "for i in range(0,len(ix_to_label)):\n",
        "    newwikivec.append(wikivec[prevoc[ix_to_label[i]]])\n",
        "newwikivec=np.array(newwikivec)\n",
        "np.save('newwikivec',newwikivec)"
      ],
      "metadata": {
        "id": "IDJl7jwDGp1H"
      },
      "execution_count": 7,
      "outputs": []
    },
    {
      "cell_type": "code",
      "source": [
        "print(len(codewiki))\n",
        "print(len(prevoc))\n",
        "print(len(feature))\n",
        "print(len(label))\n",
        "print(len(wikivec))\n",
        "print(len(label_to_ix))\n",
        "print(len(ix_to_label))\n",
        "print(data.shape)\n",
        "print(training_data.shape)\n",
        "print(test_data.shape)\n",
        "print(val_data.shape)\n",
        "print(len(newwikivec))"
      ],
      "metadata": {
        "colab": {
          "base_uri": "https://localhost:8080/"
        },
        "id": "j7pVYEtMvNHU",
        "outputId": "04f8974b-c011-4a24-a4f5-c34b20961486"
      },
      "execution_count": 8,
      "outputs": [
        {
          "output_type": "stream",
          "name": "stdout",
          "text": [
            "389\n",
            "941\n",
            "52722\n",
            "52722\n",
            "941\n",
            "344\n",
            "344\n",
            "(52722, 3)\n",
            "(36904, 3)\n",
            "(10545, 3)\n",
            "(5273, 3)\n",
            "344\n"
          ]
        }
      ]
    },
    {
      "cell_type": "markdown",
      "source": [
        "Wikipedia pages available for the first three digits ICD-9 diagnosis codes = `len(codewiki)` = 389\n",
        "\n",
        "The code vocabulary = `len(prevoc)` = 941\n",
        "\n",
        "Total number of aggregated discharge notes (per patient) = 52722 \n",
        "\n",
        "Number of Wikipedia vectors = `len(wikivec)` = 344\n",
        "\n",
        "Number of data sample = `data.shape` = 52722\n",
        "\n",
        "Number of samples in training data = `training_data.shape` 36904\n",
        "\n",
        "Number of samples in test data = `test_data.shape` 10545\n",
        "\n",
        "Number of samples in validation data = `val_data.shape` = 5273\n"
      ],
      "metadata": {
        "id": "_frQ9qeov6L-"
      }
    }
  ]
}