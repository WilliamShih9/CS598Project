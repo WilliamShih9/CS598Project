{
  "nbformat": 4,
  "nbformat_minor": 0,
  "metadata": {
    "colab": {
      "provenance": [],
      "gpuType": "V100",
      "machine_shape": "hm"
    },
    "kernelspec": {
      "name": "python3",
      "display_name": "Python 3"
    },
    "language_info": {
      "name": "python"
    },
    "gpuClass": "standard",
    "accelerator": "GPU"
  },
  "cells": [
    {
      "cell_type": "code",
      "source": [
        "from google.colab import drive\n",
        "\n",
        "drive.mount('/content/gdrive')"
      ],
      "metadata": {
        "colab": {
          "base_uri": "https://localhost:8080/"
        },
        "id": "zrzEajJJSe2a",
        "outputId": "2a4495b4-a1c2-478d-d3f5-53a33652161e"
      },
      "execution_count": 3,
      "outputs": [
        {
          "output_type": "stream",
          "name": "stdout",
          "text": [
            "Drive already mounted at /content/gdrive; to attempt to forcibly remount, call drive.mount(\"/content/gdrive\", force_remount=True).\n"
          ]
        }
      ]
    },
    {
      "cell_type": "code",
      "source": [
        "import os\n",
        "print(os.getcwd())\n",
        "os.chdir(\"/content/gdrive/My Drive/Colab Notebooks/NewVersion\")\n",
        "print(os.getcwd())"
      ],
      "metadata": {
        "colab": {
          "base_uri": "https://localhost:8080/"
        },
        "id": "J7NYtm70SgVZ",
        "outputId": "43cfa847-e7ed-4d6c-a6bb-3d836b969095"
      },
      "execution_count": 4,
      "outputs": [
        {
          "output_type": "stream",
          "name": "stdout",
          "text": [
            "/content\n",
            "/content/gdrive/My Drive/Colab Notebooks/NewVersion\n"
          ]
        }
      ]
    },
    {
      "cell_type": "code",
      "execution_count": 5,
      "metadata": {
        "id": "cSz59yfAFVdC"
      },
      "outputs": [],
      "source": [
        "import codecs\n",
        "import numpy as np\n",
        "from sklearn.feature_extraction.text import CountVectorizer\n",
        "\n",
        "\n",
        "wikivocab={}\n",
        "file1=codecs.open(\"wikipedia_knowledge_new\",'r','utf-8')\n",
        "line=file1.readline()\n",
        "while line:\n",
        "    if line[0:3]!='XXX':\n",
        "        line=line.strip('\\n')\n",
        "        line=line.split()\n",
        "        for i in line:\n",
        "            wikivocab[i.lower()]=1\n",
        "    line=file1.readline()\n",
        "\n",
        "\n",
        "\n",
        "\n",
        "notesvocab={}\n",
        "filec=codecs.open(\"combined_dataset\",'r','utf-8')"
      ]
    },
    {
      "cell_type": "code",
      "source": [
        "line=filec.readline()\n",
        "\n",
        "while line:\n",
        "    line=line.strip('\\n')\n",
        "    line=line.split()\n",
        "    \n",
        "    if line[0]=='codes:':\n",
        "        line=filec.readline()\n",
        "        line=line.strip('\\n')\n",
        "        line=line.split()\n",
        "        \n",
        "        if  line[0]=='notes:':\n",
        "            \n",
        "            line=filec.readline()\n",
        "            \n",
        "            while line!='end!\\n':\n",
        "                line=line.strip('\\n')\n",
        "                line=line.split()\n",
        "                for word in line:\n",
        "                    notesvocab[word]=1\n",
        "                \n",
        "                line=filec.readline()\n",
        "                \n",
        "            \n",
        "    line=filec.readline()"
      ],
      "metadata": {
        "id": "AR3kY2RHFj96"
      },
      "execution_count": 6,
      "outputs": []
    },
    {
      "cell_type": "code",
      "source": [
        "\n",
        "\n",
        "a1=set(notesvocab)\n",
        "a2=set(wikivocab)\n",
        "a3=a1.intersection(a2)\n",
        "\n",
        "\n",
        "wikidocuments=[]\n",
        "file2=codecs.open(\"wikipedia_knowledge_new\",'r','utf-8')\n",
        "line=file2.readline()\n",
        "while line:\n",
        "    if line[0:4]=='XXXd':\n",
        "        tempf=[]\n",
        "        line=file2.readline()\n",
        "        while line[0:4]!='XXXe':\n",
        "            line=line.strip('\\n')\n",
        "            line=line.split()\n",
        "            for i in line:\n",
        "                if i.lower() in a3:\n",
        "                    tempf.append(i.lower())\n",
        "            line=file2.readline()\n",
        "        wikidocuments.append(tempf)\n",
        "        \n",
        "    line=file2.readline()\n"
      ],
      "metadata": {
        "id": "HT-XLJ3HFq_d"
      },
      "execution_count": 7,
      "outputs": []
    },
    {
      "cell_type": "code",
      "source": [
        "\n",
        "notesdocuments=[]\n",
        "file3=codecs.open(\"combined_dataset\",'r','utf-8')\n",
        "\n",
        "line=file3.readline()\n",
        "\n",
        "while line:\n",
        "    line=line.strip('\\n')\n",
        "    line=line.split()\n",
        "    if line[0]=='codes:':\n",
        "        line=file3.readline()\n",
        "        line=line.strip('\\n')\n",
        "        line=line.split()\n",
        "        \n",
        "        if  line[0]=='notes:':\n",
        "            tempf=[]\n",
        "            line=file3.readline()\n",
        "        \n",
        "            while line!='end!\\n':\n",
        "                line=line.strip('\\n')\n",
        "                line=line.split()\n",
        "                for word in line:\n",
        "                    if word in a3:\n",
        "                        tempf.append(word)\n",
        "                \n",
        "                line=file3.readline()\n",
        "                \n",
        "            \n",
        "            notesdocuments.append(tempf)\n",
        "    line=file3.readline()\n",
        "\n",
        "####################################################################################"
      ],
      "metadata": {
        "id": "OKZaAeq-Fu4f"
      },
      "execution_count": 8,
      "outputs": []
    },
    {
      "cell_type": "code",
      "source": [
        "notesvocab={}\n",
        "for i in notesdocuments:\n",
        "    for j in i:\n",
        "        if j.lower() not in notesvocab:\n",
        "            notesvocab[j.lower()]=len(notesvocab)\n",
        "notedata=[]\n",
        "for i in notesdocuments:\n",
        "    temp=''\n",
        "    for j in i:\n",
        "        temp=temp+j+\" \"\n",
        "    notedata.append(temp)\n",
        "    \n",
        "\n",
        "wikidata=[]\n",
        "for i in wikidocuments:\n",
        "    temp=''\n",
        "    for j in i:\n",
        "        temp=temp+j+\" \"\n",
        "    wikidata.append(temp)    "
      ],
      "metadata": {
        "id": "Eru9zuNLGJjD"
      },
      "execution_count": 9,
      "outputs": []
    },
    {
      "cell_type": "code",
      "source": [
        "vect = CountVectorizer(min_df=1,vocabulary=notesvocab,binary=True)\n",
        "binaryn = vect.fit_transform(notedata)\n",
        "binaryn=binaryn.A\n",
        "binaryn=np.array(binaryn,dtype=float)\n",
        "np.save('notevec_new',binaryn)"
      ],
      "metadata": {
        "id": "Xs32Qy_0GMf6"
      },
      "execution_count": 10,
      "outputs": []
    },
    {
      "cell_type": "code",
      "source": [
        "vect2 = CountVectorizer(min_df=1,vocabulary=notesvocab,binary=True)\n",
        "binaryk = vect2.fit_transform(wikidata)\n",
        "binaryk=binaryk.A\n",
        "binaryk=np.array(binaryk,dtype=float)\n",
        "np.save('wikivec_new',binaryk)"
      ],
      "metadata": {
        "id": "i34Xmyn4VkYV"
      },
      "execution_count": 11,
      "outputs": []
    },
    {
      "cell_type": "code",
      "source": [
        "print(binaryn.shape)"
      ],
      "metadata": {
        "colab": {
          "base_uri": "https://localhost:8080/"
        },
        "id": "QJjz7GyEhyVW",
        "outputId": "5fc13f76-20f5-4d60-f83d-e0ed8c23def1"
      },
      "execution_count": 12,
      "outputs": [
        {
          "output_type": "stream",
          "name": "stdout",
          "text": [
            "(52722, 12881)\n"
          ]
        }
      ]
    },
    {
      "cell_type": "code",
      "source": [
        "print(binaryk.shape)"
      ],
      "metadata": {
        "colab": {
          "base_uri": "https://localhost:8080/"
        },
        "id": "juuq5WyTh8tZ",
        "outputId": "573dd2fa-65c5-410a-d3cc-0a9f592295a5"
      },
      "execution_count": 13,
      "outputs": [
        {
          "output_type": "stream",
          "name": "stdout",
          "text": [
            "(325, 12881)\n"
          ]
        }
      ]
    },
    {
      "cell_type": "code",
      "source": [
        "print(len(a1))\n",
        "print(len(a2))\n",
        "print(len(a3))\n",
        "print(len(notesvocab))\n",
        "print(len(notedata))\n",
        "print(len(wikidata))"
      ],
      "metadata": {
        "colab": {
          "base_uri": "https://localhost:8080/"
        },
        "id": "xSc74nBVmAP6",
        "outputId": "3363666e-dfa6-4411-c14c-3c5b185ca376"
      },
      "execution_count": 14,
      "outputs": [
        {
          "output_type": "stream",
          "name": "stdout",
          "text": [
            "47965\n",
            "70225\n",
            "12881\n",
            "12881\n",
            "52722\n",
            "325\n"
          ]
        }
      ]
    },
    {
      "cell_type": "markdown",
      "source": [
        "Number of unique words in notes = `len(a1)` = 47965\n",
        "\n",
        "Number of unique words in Wikipedia = `len(a2)` = 70225\n",
        "\n",
        "Number of unique words in both notes and Wikipedia = `len(a3)` = 12881\n",
        "\n",
        "Total number of aggregated discharge notes (per patient) = `len(notedata)` = 52722\n",
        "\n",
        "Total number of Wikipedia articles = `len(wikidata)` = 325"
      ],
      "metadata": {
        "id": "AFfqJZFMm2_4"
      }
    }
  ]
}