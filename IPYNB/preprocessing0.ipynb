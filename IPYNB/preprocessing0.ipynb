{
  "nbformat": 4,
  "nbformat_minor": 0,
  "metadata": {
    "colab": {
      "provenance": []
    },
    "kernelspec": {
      "name": "python3",
      "display_name": "Python 3"
    },
    "language_info": {
      "name": "python"
    },
    "gpuClass": "standard"
  },
  "cells": [
    {
      "cell_type": "code",
      "execution_count": null,
      "metadata": {
        "colab": {
          "base_uri": "https://localhost:8080/"
        },
        "id": "kD9qPstwIzK_",
        "outputId": "12db8896-06e4-42d1-a377-4fbdcbe0c962"
      },
      "outputs": [
        {
          "output_type": "stream",
          "name": "stdout",
          "text": [
            "Mounted at /content/gdrive\n"
          ]
        }
      ],
      "source": [
        "import gzip\n",
        "from google.colab import drive\n",
        "\n",
        "drive.mount('/content/gdrive')"
      ]
    },
    {
      "cell_type": "code",
      "source": [
        "with gzip.open('gdrive/My Drive/Colab Notebooks/NOTEEVENTS.csv.gz', 'rt', newline='') as csv_file:\n",
        "    csv_data = csv_file.read()\n",
        "    with open('gdrive/My Drive/Colab Notebooks/NOTEEVENTS.csv', 'wt') as out_file:\n",
        "         out_file.write(csv_data)"
      ],
      "metadata": {
        "id": "ksUgfgseKM46"
      },
      "execution_count": null,
      "outputs": []
    },
    {
      "cell_type": "code",
      "source": [
        "with gzip.open('gdrive/My Drive/Colab Notebooks/DIAGNOSES_ICD.csv.gz', 'rt', newline='') as csv_file:\n",
        "    csv_data = csv_file.read()\n",
        "    with open('gdrive/My Drive/Colab Notebooks/DIAGNOSES_ICD.csv', 'wt') as out_file:\n",
        "         out_file.write(csv_data)"
      ],
      "metadata": {
        "id": "zSUhWUO3I77Q"
      },
      "execution_count": null,
      "outputs": []
    }
  ]
}