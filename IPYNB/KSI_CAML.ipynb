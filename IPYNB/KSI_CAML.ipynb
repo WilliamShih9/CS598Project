{
  "nbformat": 4,
  "nbformat_minor": 0,
  "metadata": {
    "colab": {
      "provenance": [],
      "machine_shape": "hm",
      "gpuType": "V100"
    },
    "kernelspec": {
      "name": "python3",
      "display_name": "Python 3"
    },
    "language_info": {
      "name": "python"
    },
    "accelerator": "GPU",
    "gpuClass": "standard"
  },
  "cells": [
    {
      "cell_type": "code",
      "source": [
        "from google.colab import drive\n",
        "\n",
        "drive.mount('/content/gdrive')"
      ],
      "metadata": {
        "colab": {
          "base_uri": "https://localhost:8080/"
        },
        "id": "v8zW9JaTjsQq",
        "outputId": "3e3c839e-0f37-48c3-e2cb-1759ee6cb3b2"
      },
      "execution_count": 7,
      "outputs": [
        {
          "output_type": "stream",
          "name": "stdout",
          "text": [
            "Drive already mounted at /content/gdrive; to attempt to forcibly remount, call drive.mount(\"/content/gdrive\", force_remount=True).\n"
          ]
        }
      ]
    },
    {
      "cell_type": "code",
      "execution_count": 8,
      "metadata": {
        "colab": {
          "base_uri": "https://localhost:8080/"
        },
        "id": "0Vb5dzWOjWgu",
        "outputId": "8854f8f1-9d23-43cd-8fd9-1039b52e3892"
      },
      "outputs": [
        {
          "output_type": "stream",
          "name": "stdout",
          "text": [
            "/content/gdrive/My Drive/Colab Notebooks\n",
            "/content/gdrive/My Drive/Colab Notebooks\n"
          ]
        }
      ],
      "source": [
        "import os\n",
        "print(os.getcwd())\n",
        "os.chdir(\"/content/gdrive/My Drive/Colab Notebooks\")\n",
        "print(os.getcwd())"
      ]
    },
    {
      "cell_type": "code",
      "source": [
        "import torch\n",
        "import torch.autograd as autograd\n",
        "import torch.nn as nn\n",
        "import torch.nn.functional as F\n",
        "import torch.optim as optim\n",
        "import numpy as np\n",
        "torch.manual_seed(1)\n",
        "from sklearn.metrics import roc_auc_score\n",
        "from sklearn.metrics import f1_score\n",
        "import copy\n",
        "\n",
        "##########################################################\n",
        "\n",
        "label_to_ix=np.load('label_to_ix.npy', allow_pickle = True).item()\n",
        "ix_to_label=np.load('ix_to_label.npy', allow_pickle = True)\n",
        "training_data=np.load('training_data.npy', allow_pickle = True)\n",
        "test_data=np.load('test_data.npy', allow_pickle = True)\n",
        "val_data=np.load('val_data.npy', allow_pickle = True)\n",
        "word_to_ix=np.load('word_to_ix.npy', allow_pickle = True).item()\n",
        "ix_to_word=np.load('ix_to_word.npy', allow_pickle = True)\n",
        "newwikivec=np.load('newwikivec.npy', allow_pickle = True)\n",
        "wikivoc=np.load('wikivoc.npy', allow_pickle = True).item()\n",
        "\n",
        "wikisize=newwikivec.shape[0]\n",
        "rvocsize=newwikivec.shape[1]\n",
        "wikivec=autograd.Variable(torch.FloatTensor(newwikivec))\n",
        "\n",
        "\n",
        "batchsize=32"
      ],
      "metadata": {
        "id": "sd9Ar5VOjvQA"
      },
      "execution_count": 9,
      "outputs": []
    },
    {
      "cell_type": "code",
      "source": [
        "def preprocessing(data):\n",
        "\n",
        "    new_data=[]\n",
        "    for i, note, j in data:\n",
        "        templabel=[0.0]*len(label_to_ix)\n",
        "        for jj in j:\n",
        "            if jj in wikivoc:\n",
        "                templabel[label_to_ix[jj]]=1.0\n",
        "        templabel=np.array(templabel,dtype=float)\n",
        "        new_data.append((i, note, templabel))\n",
        "    new_data=np.array(new_data)\n",
        "    \n",
        "    lenlist=[]\n",
        "    for i in new_data:\n",
        "        lenlist.append(len(i[0]))\n",
        "    sortlen=sorted(range(len(lenlist)), key=lambda k: lenlist[k])  \n",
        "    new_data=new_data[sortlen]\n",
        "    \n",
        "    batch_data=[]\n",
        "    \n",
        "    for start_ix in range(0, len(new_data)-batchsize+1, batchsize):\n",
        "        thisblock=new_data[start_ix:start_ix+batchsize]\n",
        "        mybsize= len(thisblock)\n",
        "        numword=np.max([len(ii[0]) for ii in thisblock])\n",
        "        main_matrix = np.zeros((mybsize, numword), dtype= np.int)\n",
        "        for i in range(main_matrix.shape[0]):\n",
        "            for j in range(main_matrix.shape[1]):\n",
        "                try:\n",
        "                    if thisblock[i][0][j] in word_to_ix:\n",
        "                        main_matrix[i,j] = word_to_ix[thisblock[i][0][j]]\n",
        "                    \n",
        "                except IndexError:\n",
        "                    pass       # because initialze with 0, so you pad with 0\n",
        "    \n",
        "        xxx2=[]\n",
        "        yyy=[]\n",
        "        for ii in thisblock:\n",
        "            xxx2.append(ii[1])\n",
        "            yyy.append(ii[2])\n",
        "        \n",
        "        xxx2=np.array(xxx2)\n",
        "        yyy=np.array(yyy)\n",
        "        batch_data.append((autograd.Variable(torch.from_numpy(main_matrix)),autograd.Variable(torch.FloatTensor(xxx2)),autograd.Variable(torch.FloatTensor(yyy))))\n",
        "    return batch_data\n",
        "batchtraining_data=preprocessing(training_data)\n",
        "batchtest_data=preprocessing(test_data)\n",
        "batchval_data=preprocessing(val_data)"
      ],
      "metadata": {
        "colab": {
          "base_uri": "https://localhost:8080/"
        },
        "id": "WRw93PGbjx-4",
        "outputId": "e41003c0-5b47-47ab-f02f-c547ef80e4f7"
      },
      "execution_count": 10,
      "outputs": [
        {
          "output_type": "stream",
          "name": "stderr",
          "text": [
            "<ipython-input-10-c51cf0410f4f>:11: VisibleDeprecationWarning: Creating an ndarray from ragged nested sequences (which is a list-or-tuple of lists-or-tuples-or ndarrays with different lengths or shapes) is deprecated. If you meant to do this, you must specify 'dtype=object' when creating the ndarray.\n",
            "  new_data=np.array(new_data)\n",
            "<ipython-input-10-c51cf0410f4f>:25: DeprecationWarning: `np.int` is a deprecated alias for the builtin `int`. To silence this warning, use `int` by itself. Doing this will not modify any behavior and is safe. When replacing `np.int`, you may wish to use e.g. `np.int64` or `np.int32` to specify the precision. If you wish to review your current use, check the release note link for additional information.\n",
            "Deprecated in NumPy 1.20; for more details and guidance: https://numpy.org/devdocs/release/1.20.0-notes.html#deprecations\n",
            "  main_matrix = np.zeros((mybsize, numword), dtype= np.int)\n"
          ]
        }
      ]
    },
    {
      "cell_type": "code",
      "source": [
        "\n",
        "######################################################################\n",
        "# Create the model:\n",
        "\n",
        "Embeddingsize=100\n",
        "hidden_dim=200\n",
        "class CAML(nn.Module):\n",
        "\n",
        "    def __init__(self, batch_size, vocab_size, tagset_size):\n",
        "        super(CAML, self).__init__()\n",
        "        self.hidden_dim = hidden_dim\n",
        "        self.word_embeddings = nn.Embedding(vocab_size+1, Embeddingsize, padding_idx=0)\n",
        "        self.embed_drop = nn.Dropout(p=0.2)   \n",
        "        \n",
        "        \n",
        "        self.convs1 = nn.Conv1d(Embeddingsize,300,10,padding=5)\n",
        "        self.H=nn.Linear(300, tagset_size )   \n",
        "        self.final = nn.Linear(300, tagset_size)\n",
        "        \n",
        "        self.layer2 = nn.Linear(Embeddingsize, 1)\n",
        "        self.embedding=nn.Linear(rvocsize,Embeddingsize,bias=False)\n",
        "        self.vattention=nn.Linear(Embeddingsize,Embeddingsize)\n",
        "        \n",
        "        self.sigmoid = nn.Sigmoid()\n",
        "        self.tanh = nn.Tanh()\n",
        "    \n",
        "        self.dropout = nn.Dropout(0.2)\n",
        "    \n",
        "    def forward(self, vec1, nvec, wiki, simlearning):\n",
        "        \n",
        "       \n",
        "        thisembeddings=self.word_embeddings(vec1)\n",
        "        thisembeddings = self.embed_drop(thisembeddings)\n",
        "        thisembeddings=thisembeddings.transpose(1,2)\n",
        "        \n",
        "        \n",
        "        thisembeddings=self.tanh(self.convs1(thisembeddings).transpose(1,2))  \n",
        "        \n",
        "        alpha=self.H.weight.matmul(thisembeddings.transpose(1,2))\n",
        "        alpha=F.softmax(alpha, dim=2)\n",
        "        \n",
        "        m=alpha.matmul(thisembeddings)\n",
        "       \n",
        "        myfinal=self.final.weight.mul(m).sum(dim=2).add(self.final.bias)\n",
        "        \n",
        "        if simlearning==1:\n",
        "            nvec=nvec.view(batchsize,1,-1)\n",
        "            nvec=nvec.expand(batchsize,wiki.size()[0],-1)\n",
        "            wiki=wiki.view(1,wiki.size()[0],-1)\n",
        "            wiki=wiki.expand(nvec.size()[0],wiki.size()[1],-1)\n",
        "            new=wiki*nvec\n",
        "            new=self.embedding(new)\n",
        "            vattention=self.sigmoid(self.vattention(new))\n",
        "            new=new*vattention\n",
        "            vec3=self.layer2(new)\n",
        "            vec3=vec3.view(batchsize,-1)\n",
        "        \n",
        "       \n",
        "        if simlearning==1:\n",
        "            tag_scores = self.sigmoid(myfinal.detach()+vec3)\n",
        "        else:\n",
        "            tag_scores = self.sigmoid(myfinal)\n",
        "        \n",
        "        \n",
        "        return tag_scores\n",
        "\n",
        "\n",
        "\n",
        "topk=10\n",
        "\n",
        "def trainmodel(model, sim):\n",
        "    print ('start_training')\n",
        "    modelsaved=[]\n",
        "    modelperform=[]\n",
        "    topk=10\n",
        "    \n",
        "    \n",
        "    bestresults=-1\n",
        "    bestiter=-1\n",
        "    for epoch in range(5000):  \n",
        "        model.train()\n",
        "        \n",
        "        lossestrain = []\n",
        "        recall=[]\n",
        "        for mysentence in batchtraining_data:\n",
        "            model.zero_grad()\n",
        "            \n",
        "            targets = mysentence[2].cuda()\n",
        "            tag_scores = model(mysentence[0].cuda(),mysentence[1].cuda(),wikivec.cuda(),sim)\n",
        "            loss = loss_function(tag_scores, targets)\n",
        "            loss.backward()\n",
        "            optimizer.step()\n",
        "            lossestrain.append(loss.data.mean())\n",
        "        print (epoch)\n",
        "        modelsaved.append(copy.deepcopy(model.state_dict()))\n",
        "        print (\"XXXXXXXXXXXXXXXXXXXXXXXXXXXX\")\n",
        "        model.eval()\n",
        "    \n",
        "        recall=[]\n",
        "        for inputs in batchval_data:\n",
        "           \n",
        "            targets = inputs[2].cuda()\n",
        "            tag_scores = model(inputs[0].cuda(),inputs[1].cuda() ,wikivec.cuda(),sim)\n",
        "    \n",
        "            loss = loss_function(tag_scores, targets)\n",
        "            \n",
        "            targets=targets.data.cpu().numpy()\n",
        "            tag_scores= tag_scores.data.cpu().numpy()\n",
        "            \n",
        "            \n",
        "            for iii in range(0,len(tag_scores)):\n",
        "                temp={}\n",
        "                for iiii in range(0,len(tag_scores[iii])):\n",
        "                    temp[iiii]=tag_scores[iii][iiii]\n",
        "                temp1=[(k, temp[k]) for k in sorted(temp, key=temp.get, reverse=True)]\n",
        "                thistop=int(np.sum(targets[iii]))\n",
        "                hit=0.0\n",
        "                for ii in temp1[0:max(thistop,topk)]:\n",
        "                    if targets[iii][ii[0]]==1.0:\n",
        "                        hit=hit+1\n",
        "                if thistop!=0:\n",
        "                    recall.append(hit/thistop)\n",
        "            \n",
        "        print ('validation top-',topk, np.mean(recall))\n",
        "        \n",
        "        \n",
        "        \n",
        "        modelperform.append(np.mean(recall))\n",
        "        if modelperform[-1]>bestresults:\n",
        "            bestresults=modelperform[-1]\n",
        "            bestiter=len(modelperform)-1\n",
        "        \n",
        "        if (len(modelperform)-bestiter)>5:\n",
        "            print (modelperform,bestiter)\n",
        "            return modelsaved[bestiter]\n",
        "    \n",
        "model = CAML(batchsize, len(word_to_ix), len(label_to_ix))\n",
        "model.cuda()"
      ],
      "metadata": {
        "colab": {
          "base_uri": "https://localhost:8080/"
        },
        "id": "jsVqCvthj1FZ",
        "outputId": "49ff814a-f9d9-4ede-ce1e-20b0dd53670a"
      },
      "execution_count": 11,
      "outputs": [
        {
          "output_type": "execute_result",
          "data": {
            "text/plain": [
              "CAML(\n",
              "  (word_embeddings): Embedding(47962, 100, padding_idx=0)\n",
              "  (embed_drop): Dropout(p=0.2, inplace=False)\n",
              "  (convs1): Conv1d(100, 300, kernel_size=(10,), stride=(1,), padding=(5,))\n",
              "  (H): Linear(in_features=300, out_features=344, bias=True)\n",
              "  (final): Linear(in_features=300, out_features=344, bias=True)\n",
              "  (layer2): Linear(in_features=100, out_features=1, bias=True)\n",
              "  (embedding): Linear(in_features=12173, out_features=100, bias=False)\n",
              "  (vattention): Linear(in_features=100, out_features=100, bias=True)\n",
              "  (sigmoid): Sigmoid()\n",
              "  (tanh): Tanh()\n",
              "  (dropout): Dropout(p=0.2, inplace=False)\n",
              ")"
            ]
          },
          "metadata": {},
          "execution_count": 11
        }
      ]
    },
    {
      "cell_type": "code",
      "source": [
        "\n",
        "loss_function = nn.BCELoss()\n",
        "optimizer = optim.Adam(model.parameters())\n",
        "\n",
        "basemodel= trainmodel(model, 0)\n",
        "torch.save(basemodel, 'CAML_model')\n",
        "\n",
        "model = CAML(batchsize, len(word_to_ix), len(label_to_ix))\n",
        "model.cuda()\n",
        "model.load_state_dict(basemodel)\n",
        "loss_function = nn.BCELoss()\n",
        "optimizer = optim.Adam(model.parameters())\n",
        "KSImodel= trainmodel(model, 1)\n",
        "torch.save(KSImodel, 'KSI_CAML_model')"
      ],
      "metadata": {
        "colab": {
          "base_uri": "https://localhost:8080/",
          "height": 1000
        },
        "id": "icw6VHcmkY_f",
        "outputId": "ac521e7a-f0b7-4b6d-9f44-95dbf716fdfd"
      },
      "execution_count": 12,
      "outputs": [
        {
          "output_type": "stream",
          "name": "stdout",
          "text": [
            "start_training\n",
            "0\n",
            "XXXXXXXXXXXXXXXXXXXXXXXXXXXX\n",
            "validation top- 10 0.6013188656599162\n",
            "1\n",
            "XXXXXXXXXXXXXXXXXXXXXXXXXXXX\n",
            "validation top- 10 0.73183341167363\n",
            "2\n",
            "XXXXXXXXXXXXXXXXXXXXXXXXXXXX\n",
            "validation top- 10 0.7696133083065474\n",
            "3\n",
            "XXXXXXXXXXXXXXXXXXXXXXXXXXXX\n",
            "validation top- 10 0.7830299260484307\n",
            "4\n",
            "XXXXXXXXXXXXXXXXXXXXXXXXXXXX\n",
            "validation top- 10 0.7938673534132744\n",
            "5\n",
            "XXXXXXXXXXXXXXXXXXXXXXXXXXXX\n",
            "validation top- 10 0.7982580909369181\n",
            "6\n",
            "XXXXXXXXXXXXXXXXXXXXXXXXXXXX\n",
            "validation top- 10 0.8022725768408937\n",
            "7\n",
            "XXXXXXXXXXXXXXXXXXXXXXXXXXXX\n",
            "validation top- 10 0.8046233858895759\n",
            "8\n",
            "XXXXXXXXXXXXXXXXXXXXXXXXXXXX\n",
            "validation top- 10 0.8069452285662507\n",
            "9\n",
            "XXXXXXXXXXXXXXXXXXXXXXXXXXXX\n",
            "validation top- 10 0.8104105367968252\n",
            "10\n",
            "XXXXXXXXXXXXXXXXXXXXXXXXXXXX\n",
            "validation top- 10 0.809641309128695\n",
            "11\n",
            "XXXXXXXXXXXXXXXXXXXXXXXXXXXX\n",
            "validation top- 10 0.8098133633926782\n",
            "12\n",
            "XXXXXXXXXXXXXXXXXXXXXXXXXXXX\n",
            "validation top- 10 0.8111526114708519\n",
            "13\n",
            "XXXXXXXXXXXXXXXXXXXXXXXXXXXX\n",
            "validation top- 10 0.808661873113857\n",
            "14\n",
            "XXXXXXXXXXXXXXXXXXXXXXXXXXXX\n",
            "validation top- 10 0.8102501554119739\n",
            "15\n",
            "XXXXXXXXXXXXXXXXXXXXXXXXXXXX\n",
            "validation top- 10 0.8080872258881927\n",
            "16\n",
            "XXXXXXXXXXXXXXXXXXXXXXXXXXXX\n",
            "validation top- 10 0.8094098405074309\n",
            "17\n",
            "XXXXXXXXXXXXXXXXXXXXXXXXXXXX\n",
            "validation top- 10 0.8081560876245815\n",
            "[0.6013188656599162, 0.73183341167363, 0.7696133083065474, 0.7830299260484307, 0.7938673534132744, 0.7982580909369181, 0.8022725768408937, 0.8046233858895759, 0.8069452285662507, 0.8104105367968252, 0.809641309128695, 0.8098133633926782, 0.8111526114708519, 0.808661873113857, 0.8102501554119739, 0.8080872258881927, 0.8094098405074309, 0.8081560876245815] 12\n",
            "start_training\n",
            "0\n",
            "XXXXXXXXXXXXXXXXXXXXXXXXXXXX\n",
            "validation top- 10 0.8133427726355155\n",
            "1\n",
            "XXXXXXXXXXXXXXXXXXXXXXXXXXXX\n",
            "validation top- 10 0.8161842610783647\n",
            "2\n",
            "XXXXXXXXXXXXXXXXXXXXXXXXXXXX\n",
            "validation top- 10 0.8160609730156954\n",
            "3\n",
            "XXXXXXXXXXXXXXXXXXXXXXXXXXXX\n",
            "validation top- 10 0.8179229303587046\n",
            "4\n",
            "XXXXXXXXXXXXXXXXXXXXXXXXXXXX\n",
            "validation top- 10 0.8172065714724436\n",
            "5\n",
            "XXXXXXXXXXXXXXXXXXXXXXXXXXXX\n",
            "validation top- 10 0.8177904099540209\n",
            "6\n",
            "XXXXXXXXXXXXXXXXXXXXXXXXXXXX\n",
            "validation top- 10 0.8160132326181259\n",
            "7\n",
            "XXXXXXXXXXXXXXXXXXXXXXXXXXXX\n",
            "validation top- 10 0.8149175063829353\n",
            "8\n",
            "XXXXXXXXXXXXXXXXXXXXXXXXXXXX\n",
            "validation top- 10 0.8138901099766939\n",
            "[0.8133427726355155, 0.8161842610783647, 0.8160609730156954, 0.8179229303587046, 0.8172065714724436, 0.8177904099540209, 0.8160132326181259, 0.8149175063829353, 0.8138901099766939] 3\n",
            "CAML alone:           \n"
          ]
        },
        {
          "output_type": "stream",
          "name": "stderr",
          "text": [
            "<ipython-input-12-36d64eeaf132>:71: DeprecationWarning: `np.int` is a deprecated alias for the builtin `int`. To silence this warning, use `int` by itself. Doing this will not modify any behavior and is safe. When replacing `np.int`, you may wish to use e.g. `np.int64` or `np.int32` to specify the precision. If you wish to review your current use, check the release note link for additional information.\n",
            "Deprecated in NumPy 1.20; for more details and guidance: https://numpy.org/devdocs/release/1.20.0-notes.html#deprecations\n",
            "  y_pred=(y_scores>0.5).astype(np.int)\n"
          ]
        },
        {
          "output_type": "error",
          "ename": "TypeError",
          "evalue": "ignored",
          "traceback": [
            "\u001b[0;31m---------------------------------------------------------------------------\u001b[0m",
            "\u001b[0;31mTypeError\u001b[0m                                 Traceback (most recent call last)",
            "\u001b[0;32m<ipython-input-12-36d64eeaf132>\u001b[0m in \u001b[0;36m<cell line: 80>\u001b[0;34m()\u001b[0m\n\u001b[1;32m     78\u001b[0m \u001b[0;34m\u001b[0m\u001b[0m\n\u001b[1;32m     79\u001b[0m \u001b[0mprint\u001b[0m \u001b[0;34m(\u001b[0m\u001b[0;34m'CAML alone:           '\u001b[0m\u001b[0;34m)\u001b[0m\u001b[0;34m\u001b[0m\u001b[0;34m\u001b[0m\u001b[0m\n\u001b[0;32m---> 80\u001b[0;31m \u001b[0mtestmodel\u001b[0m\u001b[0;34m(\u001b[0m\u001b[0mbasemodel\u001b[0m\u001b[0;34m,\u001b[0m \u001b[0;36m0\u001b[0m\u001b[0;34m)\u001b[0m\u001b[0;34m\u001b[0m\u001b[0;34m\u001b[0m\u001b[0m\n\u001b[0m\u001b[1;32m     81\u001b[0m \u001b[0mprint\u001b[0m \u001b[0;34m(\u001b[0m\u001b[0;34m'XXXXXXXXXXXXXXXXXXXXXXXXXXXXXXXXXXXXXXXXXXXXXXXXXXXXXXXXXX'\u001b[0m\u001b[0;34m)\u001b[0m\u001b[0;34m\u001b[0m\u001b[0;34m\u001b[0m\u001b[0m\n\u001b[1;32m     82\u001b[0m \u001b[0mprint\u001b[0m \u001b[0;34m(\u001b[0m\u001b[0;34m'KSI+CAML:           '\u001b[0m\u001b[0;34m)\u001b[0m\u001b[0;34m\u001b[0m\u001b[0;34m\u001b[0m\u001b[0m\n",
            "\u001b[0;32m<ipython-input-12-36d64eeaf132>\u001b[0m in \u001b[0;36mtestmodel\u001b[0;34m(modelstate, sim)\u001b[0m\n\u001b[1;32m     70\u001b[0m     \u001b[0my_scores\u001b[0m\u001b[0;34m=\u001b[0m\u001b[0mtempscores\u001b[0m\u001b[0;34m.\u001b[0m\u001b[0mT\u001b[0m\u001b[0;34m\u001b[0m\u001b[0;34m\u001b[0m\u001b[0m\n\u001b[1;32m     71\u001b[0m     \u001b[0my_pred\u001b[0m\u001b[0;34m=\u001b[0m\u001b[0;34m(\u001b[0m\u001b[0my_scores\u001b[0m\u001b[0;34m>\u001b[0m\u001b[0;36m0.5\u001b[0m\u001b[0;34m)\u001b[0m\u001b[0;34m.\u001b[0m\u001b[0mastype\u001b[0m\u001b[0;34m(\u001b[0m\u001b[0mnp\u001b[0m\u001b[0;34m.\u001b[0m\u001b[0mint\u001b[0m\u001b[0;34m)\u001b[0m\u001b[0;34m\u001b[0m\u001b[0;34m\u001b[0m\u001b[0m\n\u001b[0;32m---> 72\u001b[0;31m     \u001b[0mprint\u001b[0m \u001b[0;34m(\u001b[0m\u001b[0;34m'test loss'\u001b[0m\u001b[0;34m,\u001b[0m \u001b[0mnp\u001b[0m\u001b[0;34m.\u001b[0m\u001b[0mmean\u001b[0m\u001b[0;34m(\u001b[0m\u001b[0mlossestest\u001b[0m\u001b[0;34m)\u001b[0m\u001b[0;34m)\u001b[0m\u001b[0;34m\u001b[0m\u001b[0;34m\u001b[0m\u001b[0m\n\u001b[0m\u001b[1;32m     73\u001b[0m     \u001b[0mprint\u001b[0m \u001b[0;34m(\u001b[0m\u001b[0;34m'top-'\u001b[0m\u001b[0;34m,\u001b[0m\u001b[0mtopk\u001b[0m\u001b[0;34m,\u001b[0m \u001b[0mnp\u001b[0m\u001b[0;34m.\u001b[0m\u001b[0mmean\u001b[0m\u001b[0;34m(\u001b[0m\u001b[0mrecall\u001b[0m\u001b[0;34m)\u001b[0m\u001b[0;34m)\u001b[0m\u001b[0;34m\u001b[0m\u001b[0;34m\u001b[0m\u001b[0m\n\u001b[1;32m     74\u001b[0m     \u001b[0mprint\u001b[0m \u001b[0;34m(\u001b[0m\u001b[0;34m'macro AUC'\u001b[0m\u001b[0;34m,\u001b[0m \u001b[0mroc_auc_score\u001b[0m\u001b[0;34m(\u001b[0m\u001b[0my_true\u001b[0m\u001b[0;34m,\u001b[0m \u001b[0my_scores\u001b[0m\u001b[0;34m,\u001b[0m\u001b[0maverage\u001b[0m\u001b[0;34m=\u001b[0m\u001b[0;34m'macro'\u001b[0m\u001b[0;34m)\u001b[0m\u001b[0;34m)\u001b[0m\u001b[0;34m\u001b[0m\u001b[0;34m\u001b[0m\u001b[0m\n",
            "\u001b[0;32m/usr/local/lib/python3.10/dist-packages/numpy/core/overrides.py\u001b[0m in \u001b[0;36mmean\u001b[0;34m(*args, **kwargs)\u001b[0m\n",
            "\u001b[0;32m/usr/local/lib/python3.10/dist-packages/numpy/core/fromnumeric.py\u001b[0m in \u001b[0;36mmean\u001b[0;34m(a, axis, dtype, out, keepdims, where)\u001b[0m\n\u001b[1;32m   3472\u001b[0m             \u001b[0;32mreturn\u001b[0m \u001b[0mmean\u001b[0m\u001b[0;34m(\u001b[0m\u001b[0maxis\u001b[0m\u001b[0;34m=\u001b[0m\u001b[0maxis\u001b[0m\u001b[0;34m,\u001b[0m \u001b[0mdtype\u001b[0m\u001b[0;34m=\u001b[0m\u001b[0mdtype\u001b[0m\u001b[0;34m,\u001b[0m \u001b[0mout\u001b[0m\u001b[0;34m=\u001b[0m\u001b[0mout\u001b[0m\u001b[0;34m,\u001b[0m \u001b[0;34m**\u001b[0m\u001b[0mkwargs\u001b[0m\u001b[0;34m)\u001b[0m\u001b[0;34m\u001b[0m\u001b[0;34m\u001b[0m\u001b[0m\n\u001b[1;32m   3473\u001b[0m \u001b[0;34m\u001b[0m\u001b[0m\n\u001b[0;32m-> 3474\u001b[0;31m     return _methods._mean(a, axis=axis, dtype=dtype,\n\u001b[0m\u001b[1;32m   3475\u001b[0m                           out=out, **kwargs)\n\u001b[1;32m   3476\u001b[0m \u001b[0;34m\u001b[0m\u001b[0m\n",
            "\u001b[0;32m/usr/local/lib/python3.10/dist-packages/numpy/core/_methods.py\u001b[0m in \u001b[0;36m_mean\u001b[0;34m(a, axis, dtype, out, keepdims, where)\u001b[0m\n\u001b[1;32m    161\u001b[0m \u001b[0;34m\u001b[0m\u001b[0m\n\u001b[1;32m    162\u001b[0m \u001b[0;32mdef\u001b[0m \u001b[0m_mean\u001b[0m\u001b[0;34m(\u001b[0m\u001b[0ma\u001b[0m\u001b[0;34m,\u001b[0m \u001b[0maxis\u001b[0m\u001b[0;34m=\u001b[0m\u001b[0;32mNone\u001b[0m\u001b[0;34m,\u001b[0m \u001b[0mdtype\u001b[0m\u001b[0;34m=\u001b[0m\u001b[0;32mNone\u001b[0m\u001b[0;34m,\u001b[0m \u001b[0mout\u001b[0m\u001b[0;34m=\u001b[0m\u001b[0;32mNone\u001b[0m\u001b[0;34m,\u001b[0m \u001b[0mkeepdims\u001b[0m\u001b[0;34m=\u001b[0m\u001b[0;32mFalse\u001b[0m\u001b[0;34m,\u001b[0m \u001b[0;34m*\u001b[0m\u001b[0;34m,\u001b[0m \u001b[0mwhere\u001b[0m\u001b[0;34m=\u001b[0m\u001b[0;32mTrue\u001b[0m\u001b[0;34m)\u001b[0m\u001b[0;34m:\u001b[0m\u001b[0;34m\u001b[0m\u001b[0;34m\u001b[0m\u001b[0m\n\u001b[0;32m--> 163\u001b[0;31m     \u001b[0marr\u001b[0m \u001b[0;34m=\u001b[0m \u001b[0masanyarray\u001b[0m\u001b[0;34m(\u001b[0m\u001b[0ma\u001b[0m\u001b[0;34m)\u001b[0m\u001b[0;34m\u001b[0m\u001b[0;34m\u001b[0m\u001b[0m\n\u001b[0m\u001b[1;32m    164\u001b[0m \u001b[0;34m\u001b[0m\u001b[0m\n\u001b[1;32m    165\u001b[0m     \u001b[0mis_float16_result\u001b[0m \u001b[0;34m=\u001b[0m \u001b[0;32mFalse\u001b[0m\u001b[0;34m\u001b[0m\u001b[0;34m\u001b[0m\u001b[0m\n",
            "\u001b[0;32m/usr/local/lib/python3.10/dist-packages/torch/_tensor.py\u001b[0m in \u001b[0;36m__array__\u001b[0;34m(self, dtype)\u001b[0m\n\u001b[1;32m    968\u001b[0m             \u001b[0;32mreturn\u001b[0m \u001b[0mhandle_torch_function\u001b[0m\u001b[0;34m(\u001b[0m\u001b[0mTensor\u001b[0m\u001b[0;34m.\u001b[0m\u001b[0m__array__\u001b[0m\u001b[0;34m,\u001b[0m \u001b[0;34m(\u001b[0m\u001b[0mself\u001b[0m\u001b[0;34m,\u001b[0m\u001b[0;34m)\u001b[0m\u001b[0;34m,\u001b[0m \u001b[0mself\u001b[0m\u001b[0;34m,\u001b[0m \u001b[0mdtype\u001b[0m\u001b[0;34m=\u001b[0m\u001b[0mdtype\u001b[0m\u001b[0;34m)\u001b[0m\u001b[0;34m\u001b[0m\u001b[0;34m\u001b[0m\u001b[0m\n\u001b[1;32m    969\u001b[0m         \u001b[0;32mif\u001b[0m \u001b[0mdtype\u001b[0m \u001b[0;32mis\u001b[0m \u001b[0;32mNone\u001b[0m\u001b[0;34m:\u001b[0m\u001b[0;34m\u001b[0m\u001b[0;34m\u001b[0m\u001b[0m\n\u001b[0;32m--> 970\u001b[0;31m             \u001b[0;32mreturn\u001b[0m \u001b[0mself\u001b[0m\u001b[0;34m.\u001b[0m\u001b[0mnumpy\u001b[0m\u001b[0;34m(\u001b[0m\u001b[0;34m)\u001b[0m\u001b[0;34m\u001b[0m\u001b[0;34m\u001b[0m\u001b[0m\n\u001b[0m\u001b[1;32m    971\u001b[0m         \u001b[0;32melse\u001b[0m\u001b[0;34m:\u001b[0m\u001b[0;34m\u001b[0m\u001b[0;34m\u001b[0m\u001b[0m\n\u001b[1;32m    972\u001b[0m             \u001b[0;32mreturn\u001b[0m \u001b[0mself\u001b[0m\u001b[0;34m.\u001b[0m\u001b[0mnumpy\u001b[0m\u001b[0;34m(\u001b[0m\u001b[0;34m)\u001b[0m\u001b[0;34m.\u001b[0m\u001b[0mastype\u001b[0m\u001b[0;34m(\u001b[0m\u001b[0mdtype\u001b[0m\u001b[0;34m,\u001b[0m \u001b[0mcopy\u001b[0m\u001b[0;34m=\u001b[0m\u001b[0;32mFalse\u001b[0m\u001b[0;34m)\u001b[0m\u001b[0;34m\u001b[0m\u001b[0;34m\u001b[0m\u001b[0m\n",
            "\u001b[0;31mTypeError\u001b[0m: can't convert cuda:0 device type tensor to numpy. Use Tensor.cpu() to copy the tensor to host memory first."
          ]
        }
      ]
    },
    {
      "cell_type": "code",
      "source": [
        "def testmodel(modelstate, sim):\n",
        "    model = CAML(batchsize, len(word_to_ix), len(label_to_ix))\n",
        "    model.cuda()\n",
        "    model.load_state_dict(modelstate)\n",
        "    loss_function = nn.BCELoss()\n",
        "    model.eval()\n",
        "    recall=[]\n",
        "    lossestest = []\n",
        "    \n",
        "    y_true=[]\n",
        "    y_scores=[]\n",
        "    \n",
        "    \n",
        "    for inputs in batchtest_data:\n",
        "       \n",
        "        targets = inputs[2].cuda()\n",
        "        \n",
        "        tag_scores = model(inputs[0].cuda(),inputs[1].cuda() ,wikivec.cuda(),sim)\n",
        "\n",
        "        loss = loss_function(tag_scores, targets)\n",
        "        \n",
        "        targets=targets.data.cpu().numpy()\n",
        "        tag_scores= tag_scores.data.cpu().numpy()\n",
        "        \n",
        "        \n",
        "        lossestest.append(loss.data.cpu().numpy().mean())\n",
        "        y_true.append(targets)\n",
        "        y_scores.append(tag_scores)\n",
        "        \n",
        "        for iii in range(0,len(tag_scores)):\n",
        "            temp={}\n",
        "            for iiii in range(0,len(tag_scores[iii])):\n",
        "                temp[iiii]=tag_scores[iii][iiii]\n",
        "            temp1=[(k, temp[k]) for k in sorted(temp, key=temp.get, reverse=True)]\n",
        "            thistop=int(np.sum(targets[iii]))\n",
        "            hit=0.0\n",
        "            \n",
        "            for ii in temp1[0:max(thistop,topk)]:\n",
        "                if targets[iii][ii[0]]==1.0:\n",
        "                    hit=hit+1\n",
        "            if thistop!=0:\n",
        "                recall.append(hit/thistop)\n",
        "    y_true=np.concatenate(y_true,axis=0)\n",
        "    y_scores=np.concatenate(y_scores,axis=0)\n",
        "    y_true=y_true.T\n",
        "    y_scores=y_scores.T\n",
        "    temptrue=[]\n",
        "    tempscores=[]\n",
        "    for  col in range(0,len(y_true)):\n",
        "        if np.sum(y_true[col])!=0:\n",
        "            temptrue.append(y_true[col])\n",
        "            tempscores.append(y_scores[col])\n",
        "    temptrue=np.array(temptrue)\n",
        "    tempscores=np.array(tempscores)\n",
        "    y_true=temptrue.T\n",
        "    y_scores=tempscores.T\n",
        "    y_pred=(y_scores>0.5).astype(np.int)\n",
        "    print ('test loss', np.mean(lossestest))\n",
        "    print ('top-',topk, np.mean(recall))\n",
        "    print ('macro AUC', roc_auc_score(y_true, y_scores,average='macro'))\n",
        "    print ('micro AUC', roc_auc_score(y_true, y_scores,average='micro'))\n",
        "    print ('macro F1', f1_score(y_true, y_pred, average='macro')  )\n",
        "    print ('micro F1', f1_score(y_true, y_pred, average='micro')  )"
      ],
      "metadata": {
        "id": "MngF3T-ZoKGy"
      },
      "execution_count": 22,
      "outputs": []
    },
    {
      "cell_type": "code",
      "source": [
        "print ('CAML alone:           ')\n",
        "testmodel(basemodel, 0)\n",
        "print ('XXXXXXXXXXXXXXXXXXXXXXXXXXXXXXXXXXXXXXXXXXXXXXXXXXXXXXXXXX')\n",
        "print ('KSI+CAML:           ')\n",
        "testmodel(KSImodel, 1)"
      ],
      "metadata": {
        "colab": {
          "base_uri": "https://localhost:8080/"
        },
        "id": "Az8LUV7ano1k",
        "outputId": "0b0355ea-c178-40a5-ff10-c81e9ca3009a"
      },
      "execution_count": 23,
      "outputs": [
        {
          "output_type": "stream",
          "name": "stdout",
          "text": [
            "CAML alone:           \n"
          ]
        },
        {
          "output_type": "stream",
          "name": "stderr",
          "text": [
            "<ipython-input-22-cc76f44029ca>:57: DeprecationWarning: `np.int` is a deprecated alias for the builtin `int`. To silence this warning, use `int` by itself. Doing this will not modify any behavior and is safe. When replacing `np.int`, you may wish to use e.g. `np.int64` or `np.int32` to specify the precision. If you wish to review your current use, check the release note link for additional information.\n",
            "Deprecated in NumPy 1.20; for more details and guidance: https://numpy.org/devdocs/release/1.20.0-notes.html#deprecations\n",
            "  y_pred=(y_scores>0.5).astype(np.int)\n"
          ]
        },
        {
          "output_type": "stream",
          "name": "stdout",
          "text": [
            "test loss 0.032890905\n",
            "top- 10 0.8063483408992754\n",
            "macro AUC 0.8562498395437558\n",
            "micro AUC 0.9773864073319035\n",
            "macro F1 0.2617784263264948\n",
            "micro F1 0.6556354829381145\n",
            "XXXXXXXXXXXXXXXXXXXXXXXXXXXXXXXXXXXXXXXXXXXXXXXXXXXXXXXXXX\n",
            "KSI+CAML:           \n"
          ]
        },
        {
          "output_type": "stream",
          "name": "stderr",
          "text": [
            "<ipython-input-22-cc76f44029ca>:57: DeprecationWarning: `np.int` is a deprecated alias for the builtin `int`. To silence this warning, use `int` by itself. Doing this will not modify any behavior and is safe. When replacing `np.int`, you may wish to use e.g. `np.int64` or `np.int32` to specify the precision. If you wish to review your current use, check the release note link for additional information.\n",
            "Deprecated in NumPy 1.20; for more details and guidance: https://numpy.org/devdocs/release/1.20.0-notes.html#deprecations\n",
            "  y_pred=(y_scores>0.5).astype(np.int)\n"
          ]
        },
        {
          "output_type": "stream",
          "name": "stdout",
          "text": [
            "test loss 0.03191529\n",
            "top- 10 0.8146772649407436\n",
            "macro AUC 0.8910676744976375\n",
            "micro AUC 0.979865981419691\n",
            "macro F1 0.2909599296713683\n",
            "micro F1 0.662370498836201\n"
          ]
        }
      ]
    }
  ]
}