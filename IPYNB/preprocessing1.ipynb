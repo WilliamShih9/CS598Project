{
  "nbformat": 4,
  "nbformat_minor": 0,
  "metadata": {
    "colab": {
      "provenance": []
    },
    "kernelspec": {
      "name": "python3",
      "display_name": "Python 3"
    },
    "language_info": {
      "name": "python"
    }
  },
  "cells": [
    {
      "cell_type": "code",
      "source": [
        "from google.colab import drive\n",
        "\n",
        "drive.mount('/content/gdrive')"
      ],
      "metadata": {
        "colab": {
          "base_uri": "https://localhost:8080/"
        },
        "id": "Tx8-Amb_MK38",
        "outputId": "99ef2473-0fa3-4a18-eca8-4fbf88210b56"
      },
      "execution_count": 1,
      "outputs": [
        {
          "output_type": "stream",
          "name": "stdout",
          "text": [
            "Mounted at /content/gdrive\n"
          ]
        }
      ]
    },
    {
      "cell_type": "code",
      "source": [
        "import os\n",
        "print(os.getcwd())\n",
        "os.chdir(\"/content/gdrive/My Drive/Colab Notebooks\")\n",
        "print(os.getcwd())"
      ],
      "metadata": {
        "colab": {
          "base_uri": "https://localhost:8080/"
        },
        "id": "ADGaFOaqMjfX",
        "outputId": "8bc8be28-1d2e-4d07-a6ed-cf6cc8f71a24"
      },
      "execution_count": 2,
      "outputs": [
        {
          "output_type": "stream",
          "name": "stdout",
          "text": [
            "/content\n",
            "/content/gdrive/My Drive/Colab Notebooks\n"
          ]
        }
      ]
    },
    {
      "cell_type": "code",
      "source": [
        "!pip install stop_words"
      ],
      "metadata": {
        "colab": {
          "base_uri": "https://localhost:8080/"
        },
        "id": "4vbFb01aNIeJ",
        "outputId": "85f3ad32-b5cd-4b04-bdc9-95ecafd5a89d"
      },
      "execution_count": 3,
      "outputs": [
        {
          "output_type": "stream",
          "name": "stdout",
          "text": [
            "Looking in indexes: https://pypi.org/simple, https://us-python.pkg.dev/colab-wheels/public/simple/\n",
            "Collecting stop_words\n",
            "  Downloading stop-words-2018.7.23.tar.gz (31 kB)\n",
            "  Preparing metadata (setup.py) ... \u001b[?25l\u001b[?25hdone\n",
            "Building wheels for collected packages: stop_words\n",
            "  Building wheel for stop_words (setup.py) ... \u001b[?25l\u001b[?25hdone\n",
            "  Created wheel for stop_words: filename=stop_words-2018.7.23-py3-none-any.whl size=32910 sha256=d28597baaa6521e437800ff2fc8980137167f9a7fedd84d3847fe601eab4042b\n",
            "  Stored in directory: /root/.cache/pip/wheels/d0/1a/23/f12552a50cb09bcc1694a5ebb6c2cd5f2a0311de2b8c3d9a89\n",
            "Successfully built stop_words\n",
            "Installing collected packages: stop_words\n",
            "Successfully installed stop_words-2018.7.23\n"
          ]
        }
      ]
    },
    {
      "cell_type": "code",
      "execution_count": 4,
      "metadata": {
        "id": "nmu6aKLADzo5"
      },
      "outputs": [],
      "source": [
        "import codecs\n",
        "from collections import defaultdict\n",
        "import csv\n",
        "import string\n",
        "from stop_words import get_stop_words    # download stop words package from https://pypi.org/project/stop-words/\n",
        "import numpy as np\n",
        "\n",
        "\n",
        "stop_words = get_stop_words('english')\n",
        "\n",
        "admidic=defaultdict(list)\n",
        "count=0\n",
        "\n",
        "\n",
        "with open('NOTEEVENTS.csv', 'r') as csvfile:\n",
        "     spamreader = csv.reader(csvfile, delimiter=',', quotechar='\"')\n",
        "     for row in spamreader:\n",
        "         if row[6]=='Discharge summary':\n",
        "             admidic[row[2]].append(row[-1].replace('\\n',' ').translate(str.maketrans('','',string.punctuation)).lower())\n",
        "             count=count+1"
      ]
    },
    {
      "cell_type": "code",
      "source": [
        "u=defaultdict(int)\n",
        "for i in admidic:\n",
        "    for jj in admidic[i]:\n",
        "        line=jj.strip('\\n').split()\n",
        "        for j in line:\n",
        "            u[j]=u[j]+1"
      ],
      "metadata": {
        "id": "k2H9NCTIEHlb"
      },
      "execution_count": 5,
      "outputs": []
    },
    {
      "cell_type": "code",
      "source": [
        "u2=defaultdict(int)\n",
        "for i in u:\n",
        "        if i.isdigit()==False:\n",
        "            if u[i]>10:\n",
        "                if i not in stop_words:\n",
        "                    u2[i]=u[i]  "
      ],
      "metadata": {
        "id": "2nLKAjq6EKUe"
      },
      "execution_count": 6,
      "outputs": []
    },
    {
      "cell_type": "code",
      "source": [
        "length_u = len(u)\n",
        "length_u2 = len(u2)"
      ],
      "metadata": {
        "id": "cgep6FarfcwX"
      },
      "execution_count": 16,
      "outputs": []
    },
    {
      "cell_type": "code",
      "source": [
        "file1=codecs.open('DIAGNOSES_ICD.csv','r')\n",
        "ad2c=defaultdict(list)\n",
        "line=file1.readline()\n",
        "line=file1.readline()\n",
        "\n",
        "while line:\n",
        "    line=line.strip().split(',')\n",
        "\n",
        "    if line[4][1:-1]!='':\n",
        "        ad2c[line[2]].append(\"d_\"+line[4][1:-1])\n",
        "    \n",
        "    line=file1.readline()\n",
        "\n",
        "\n",
        "\n",
        "\n",
        "codeu=defaultdict(int)\n",
        "for i in ad2c:\n",
        "    for j in ad2c[i]:\n",
        "        codeu[j]=codeu[j]+1"
      ],
      "metadata": {
        "id": "zgfRIrXMENZz"
      },
      "execution_count": 17,
      "outputs": []
    },
    {
      "cell_type": "code",
      "source": [
        "cthre=0\n",
        "fileo=codecs.open(\"combined_dataset\",'w')\n",
        "\n",
        "IDlist=np.load('IDlist.npy',encoding='bytes').astype(str)\n",
        "for i in IDlist:\n",
        "    if ad2c[i]!=[]:\n",
        "        \n",
        "        fileo.write('start! '+i+'\\n')\n",
        "        fileo.write('codes: ')\n",
        "        tempc=[]\n",
        "        for code in ad2c[i]:\n",
        "            if codeu[code]>=cthre:\n",
        "                if code[0:5] not in tempc:\n",
        "                    tempc.append(code[0:5])\n",
        "       \n",
        "        for code in tempc:\n",
        "            fileo.write(code+\" \")\n",
        "        fileo.write('\\n')\n",
        "        fileo.write('notes:\\n')\n",
        "        for line in admidic[i]:    \n",
        "            thisline=line.strip('\\n').split() \n",
        "            for j in thisline:\n",
        "                if u2[j]!=0:\n",
        "                    fileo.write(j+\" \")\n",
        "            fileo.write('\\n')\n",
        "        fileo.write('end!\\n')\n",
        "fileo.close()"
      ],
      "metadata": {
        "id": "9ayEgqaQEUbd"
      },
      "execution_count": 18,
      "outputs": []
    },
    {
      "cell_type": "code",
      "source": [
        "average_words_admidic = sum([len(words) for notes in admidic.values() for words in notes])/count"
      ],
      "metadata": {
        "id": "aLEADFu4hyz0"
      },
      "execution_count": 19,
      "outputs": []
    },
    {
      "cell_type": "code",
      "source": [
        "average_words_admidic"
      ],
      "metadata": {
        "id": "l8pYig4aiDWL",
        "outputId": "576209ca-4b0b-46de-e30c-8753cad5e632",
        "colab": {
          "base_uri": "https://localhost:8080/"
        }
      },
      "execution_count": 22,
      "outputs": [
        {
          "output_type": "execute_result",
          "data": {
            "text/plain": [
              "8841.191041373299"
            ]
          },
          "metadata": {},
          "execution_count": 22
        }
      ]
    },
    {
      "cell_type": "code",
      "source": [
        "len(admidic)"
      ],
      "metadata": {
        "colab": {
          "base_uri": "https://localhost:8080/"
        },
        "id": "DFgKIExdOQoW",
        "outputId": "1a4978be-a730-4c68-f2cc-1b370f70aaf4"
      },
      "execution_count": 24,
      "outputs": [
        {
          "output_type": "execute_result",
          "data": {
            "text/plain": [
              "52726"
            ]
          },
          "metadata": {},
          "execution_count": 24
        }
      ]
    },
    {
      "cell_type": "code",
      "source": [
        "length_u"
      ],
      "metadata": {
        "id": "2PQvJkQ-iXNj",
        "outputId": "bd2ccbc9-6239-4b48-f478-78a5a3a8a4fc",
        "colab": {
          "base_uri": "https://localhost:8080/"
        }
      },
      "execution_count": 25,
      "outputs": [
        {
          "output_type": "execute_result",
          "data": {
            "text/plain": [
              "529820"
            ]
          },
          "metadata": {},
          "execution_count": 25
        }
      ]
    },
    {
      "cell_type": "code",
      "source": [
        "length_u2"
      ],
      "metadata": {
        "colab": {
          "base_uri": "https://localhost:8080/"
        },
        "id": "B0j4IllrOuqj",
        "outputId": "ff5793ed-c89a-43cc-c5d1-32d3bdb974d5"
      },
      "execution_count": null,
      "outputs": [
        {
          "output_type": "execute_result",
          "data": {
            "text/plain": [
              "47965"
            ]
          },
          "metadata": {},
          "execution_count": 11
        }
      ]
    },
    {
      "cell_type": "code",
      "source": [
        "len(ad2c)"
      ],
      "metadata": {
        "colab": {
          "base_uri": "https://localhost:8080/"
        },
        "id": "5CG8SGxfO6GH",
        "outputId": "2d9c9a6d-adc6-4d13-d778-d4b035b02a83"
      },
      "execution_count": null,
      "outputs": [
        {
          "output_type": "execute_result",
          "data": {
            "text/plain": [
              "58933"
            ]
          },
          "metadata": {},
          "execution_count": 12
        }
      ]
    },
    {
      "cell_type": "code",
      "source": [
        "count"
      ],
      "metadata": {
        "colab": {
          "base_uri": "https://localhost:8080/"
        },
        "id": "F-_UMTxEguzo",
        "outputId": "a4532c7a-efcf-42ce-db4e-b114690f58fe"
      },
      "execution_count": null,
      "outputs": [
        {
          "output_type": "execute_result",
          "data": {
            "text/plain": [
              "59652"
            ]
          },
          "metadata": {},
          "execution_count": 13
        }
      ]
    },
    {
      "cell_type": "markdown",
      "source": [
        "total number of discharge notes = `count` = 59652\n",
        "\n",
        "total number of aggregated discharge notes (per patient) = `len(admidic)` = 52726\n",
        "\n",
        "number of unique words after preprocessing = `length_u2` = 47965\n",
        "\n",
        "number of unique words before preprocessing = `length_u` = 529820\n",
        "\n",
        "average number of words per note before preprocessing = 8841\n",
        "\n",
        "\n",
        "\n"
      ],
      "metadata": {
        "id": "tlBhCpXhQIuC"
      }
    }
  ]
}