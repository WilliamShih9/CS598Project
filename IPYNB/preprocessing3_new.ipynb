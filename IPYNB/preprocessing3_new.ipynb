{
  "nbformat": 4,
  "nbformat_minor": 0,
  "metadata": {
    "colab": {
      "provenance": [],
      "machine_shape": "hm",
      "gpuType": "V100"
    },
    "kernelspec": {
      "name": "python3",
      "display_name": "Python 3"
    },
    "language_info": {
      "name": "python"
    },
    "accelerator": "GPU",
    "gpuClass": "standard"
  },
  "cells": [
    {
      "cell_type": "code",
      "source": [
        "from google.colab import drive\n",
        "\n",
        "drive.mount('/content/gdrive')"
      ],
      "metadata": {
        "colab": {
          "base_uri": "https://localhost:8080/"
        },
        "id": "8ILECva7iDY5",
        "outputId": "9a218d10-e9ca-49b4-a0b4-848693f9b5b7"
      },
      "execution_count": 1,
      "outputs": [
        {
          "output_type": "stream",
          "name": "stdout",
          "text": [
            "Mounted at /content/gdrive\n"
          ]
        }
      ]
    },
    {
      "cell_type": "code",
      "source": [
        "import os\n",
        "print(os.getcwd())\n",
        "os.chdir(\"/content/gdrive/My Drive/Colab Notebooks/NewVersion\")\n",
        "print(os.getcwd())"
      ],
      "metadata": {
        "colab": {
          "base_uri": "https://localhost:8080/"
        },
        "id": "1igFKzstiFL8",
        "outputId": "691ba158-4261-4dfd-ae08-cd9d6dcbbd7b"
      },
      "execution_count": 2,
      "outputs": [
        {
          "output_type": "stream",
          "name": "stdout",
          "text": [
            "/content\n",
            "/content/gdrive/My Drive/Colab Notebooks/NewVersion\n"
          ]
        }
      ]
    },
    {
      "cell_type": "code",
      "execution_count": 3,
      "metadata": {
        "id": "6f6D9SEkGUWb"
      },
      "outputs": [],
      "source": [
        "import numpy as np\n",
        "from collections import defaultdict\n",
        "from sklearn.model_selection import train_test_split\n",
        "import codecs\n",
        "\n",
        "\n",
        "##########################################################\n",
        "wikivoc={}\n",
        "codewiki=defaultdict(list)\n",
        "\n",
        "file2=codecs.open(\"wikipedia_knowledge_new\",'r','utf-8')\n",
        "line=file2.readline()\n",
        "count=0\n",
        "while line:\n",
        "    if line[0:4]=='XXXd':\n",
        "        line=line.strip('\\n')\n",
        "        line=line.split()\n",
        "        for i in line:\n",
        "            if i[0:2]=='d_':\n",
        "                codewiki[i].append(count)\n",
        "                wikivoc[i]=1\n",
        "        count=count+1\n",
        "    line=file2.readline()\n",
        "\n",
        "################### four codes have two wikidocuments, correct them\n",
        "codewiki['d_072']=[214]\n",
        "codewiki['d_698']=[125]\n",
        "codewiki['d_305']=[250]\n",
        "codewiki['d_386']=[219]\n",
        "np.save('wikivoc_new',wikivoc)"
      ]
    },
    {
      "cell_type": "code",
      "source": [
        "filec=codecs.open(\"combined_dataset\",'r','utf-8')\n",
        "\n",
        "line=filec.readline()\n",
        "\n",
        "feature=[]\n",
        "label=[]\n",
        "\n",
        "while line:\n",
        "    line=line.strip('\\n')\n",
        "    line=line.split()\n",
        "    \n",
        "    if line[0]=='codes:':\n",
        "        temp=line[1:]\n",
        "        label.append(temp)\n",
        "        line=filec.readline()\n",
        "        line=line.strip('\\n')\n",
        "        line=line.split()\n",
        "        if  line[0]=='notes:':\n",
        "            tempf=[]\n",
        "            line=filec.readline()\n",
        "           \n",
        "            while line!='end!\\n':\n",
        "                line=line.strip('\\n')\n",
        "                line=line.split()\n",
        "                tempf=tempf+line\n",
        "                line=filec.readline()\n",
        "            feature.append(tempf)\n",
        "    line=filec.readline()\n",
        "\n",
        "\n",
        "prevoc={}\n",
        "for i in label:\n",
        "    for j in i:\n",
        "        if j not in prevoc:\n",
        "            prevoc[j]=len(prevoc)\n"
      ],
      "metadata": {
        "id": "TB8mJ3DZGdN_"
      },
      "execution_count": 4,
      "outputs": []
    },
    {
      "cell_type": "code",
      "source": [
        "notevec=np.load('notevec_new.npy')\n",
        "wikivec=np.load('wikivec_new.npy')\n",
        "label_to_ix = {}\n",
        "ix_to_label={}\n",
        "\n",
        "\n",
        "for codes in label:\n",
        "    for code in codes:\n",
        "        if code not in label_to_ix:\n",
        "            label_to_ix[code]=len(label_to_ix)\n",
        "            ix_to_label[label_to_ix[code]]=code\n",
        "\n",
        "tempwikivec=[]\n",
        "\n",
        "for i in range(0,len(ix_to_label)):\n",
        "    if ix_to_label[i] in wikivoc:\n",
        "        temp=wikivec[codewiki[ix_to_label[i]][0]]\n",
        "        tempwikivec.append(temp)\n",
        "    else:\n",
        "        tempwikivec.append([0.0]*wikivec.shape[1])\n",
        "wikivec=np.array(tempwikivec)\n"
      ],
      "metadata": {
        "id": "n0if2H5MGkHJ"
      },
      "execution_count": 5,
      "outputs": []
    },
    {
      "cell_type": "code",
      "source": [
        "####################################\n",
        "\n",
        "data=[]\n",
        "for i in range(0,len(feature)):\n",
        "    data.append((feature[i], notevec[i], label[i]))\n",
        "    \n",
        "data=np.array(data)  \n",
        "\n",
        "label_to_ix = {}\n",
        "ix_to_label={}\n",
        "\n",
        "for doc, note, codes in data:\n",
        "    for code in codes:\n",
        "        if code not in label_to_ix:\n",
        "            if code in wikivoc:\n",
        "                label_to_ix[code]=len(label_to_ix)\n",
        "                ix_to_label[label_to_ix[code]]=code\n",
        "\n",
        "np.save('label_to_ix_new',label_to_ix)\n",
        "np.save('ix_to_label_new',ix_to_label)\n",
        "\n",
        "training_data, test_data = train_test_split(data, test_size=0.2, random_state=42)\n",
        "training_data, val_data = train_test_split(training_data, test_size=0.125, random_state=42)\n",
        "\n",
        "np.save('training_data_new',training_data)\n",
        "np.save('test_data_new',test_data)\n",
        "np.save('val_data_new',val_data)"
      ],
      "metadata": {
        "id": "vz9XDD3-Gn0z",
        "colab": {
          "base_uri": "https://localhost:8080/"
        },
        "outputId": "129d19c7-6fe9-4dbe-a296-5fd6c67d48af"
      },
      "execution_count": 6,
      "outputs": [
        {
          "output_type": "stream",
          "name": "stderr",
          "text": [
            "<ipython-input-6-9b3053711994>:7: VisibleDeprecationWarning: Creating an ndarray from ragged nested sequences (which is a list-or-tuple of lists-or-tuples-or ndarrays with different lengths or shapes) is deprecated. If you meant to do this, you must specify 'dtype=object' when creating the ndarray.\n",
            "  data=np.array(data)\n"
          ]
        }
      ]
    },
    {
      "cell_type": "code",
      "source": [
        "\n",
        "word_to_ix = {}\n",
        "ix_to_word={}\n",
        "ix_to_word[0]='OUT'\n",
        "\n",
        "\n",
        "for doc, note, codes in training_data:\n",
        "    for word in doc:\n",
        "        if word not in word_to_ix:\n",
        "            word_to_ix[word] = len(word_to_ix)+1\n",
        "            ix_to_word[word_to_ix[word]]=word  \n",
        "    \n",
        "np.save('word_to_ix_new',word_to_ix)\n",
        "np.save('ix_to_word_new',ix_to_word)\n",
        "\n",
        "newwikivec=[]\n",
        "for i in range(0,len(ix_to_label)):\n",
        "    newwikivec.append(wikivec[prevoc[ix_to_label[i]]])\n",
        "newwikivec=np.array(newwikivec)\n",
        "np.save('newwikivec_new',newwikivec)"
      ],
      "metadata": {
        "id": "IDJl7jwDGp1H"
      },
      "execution_count": 7,
      "outputs": []
    },
    {
      "cell_type": "code",
      "source": [
        "print(len(codewiki))\n",
        "print(len(prevoc))\n",
        "print(len(feature))\n",
        "print(len(label))\n",
        "print(len(wikivec))\n",
        "print(len(label_to_ix))\n",
        "print(len(ix_to_label))\n",
        "print(data.shape)\n",
        "print(training_data.shape)\n",
        "print(test_data.shape)\n",
        "print(val_data.shape)\n",
        "print(len(newwikivec))"
      ],
      "metadata": {
        "colab": {
          "base_uri": "https://localhost:8080/"
        },
        "id": "D3mO2fA7oYTP",
        "outputId": "b186335f-117b-44b1-f7ef-85e38094dc2e"
      },
      "execution_count": 8,
      "outputs": [
        {
          "output_type": "stream",
          "name": "stdout",
          "text": [
            "389\n",
            "941\n",
            "52722\n",
            "52722\n",
            "941\n",
            "344\n",
            "344\n",
            "(52722, 3)\n",
            "(36904, 3)\n",
            "(10545, 3)\n",
            "(5273, 3)\n",
            "344\n"
          ]
        }
      ]
    },
    {
      "cell_type": "markdown",
      "source": [
        "Wikipedia pages available for the first three digits ICD-9 diagnosis codes = `len(codewiki)` = 389\n",
        "\n",
        "The code vocabulary = `len(prevoc)` = 941\n",
        "\n",
        "Total number of aggregated discharge notes (per patient) = 52722 \n",
        "\n",
        "Number of Wikipedia vectors = `len(wikivec)` = 344\n",
        "\n",
        "Number of data sample = `data.shape` = 52722\n",
        "\n",
        "Number of samples in training data = `training_data.shape` 36904\n",
        "\n",
        "Number of samples in test data = `test_data.shape` 10545\n",
        "\n",
        "Number of samples in validation data = `val_data.shape` = 5273\n"
      ],
      "metadata": {
        "id": "J9e1Ag0hqBjS"
      }
    }
  ]
}