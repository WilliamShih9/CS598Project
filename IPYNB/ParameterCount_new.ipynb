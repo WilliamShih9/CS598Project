{
  "nbformat": 4,
  "nbformat_minor": 0,
  "metadata": {
    "colab": {
      "provenance": [],
      "machine_shape": "hm",
      "gpuType": "V100"
    },
    "kernelspec": {
      "name": "python3",
      "display_name": "Python 3"
    },
    "language_info": {
      "name": "python"
    },
    "gpuClass": "standard"
  },
  "cells": [
    {
      "cell_type": "code",
      "execution_count": 1,
      "metadata": {
        "colab": {
          "base_uri": "https://localhost:8080/"
        },
        "id": "yEX37rfDBAft",
        "outputId": "6b40fb90-bc87-4539-df40-f1b4d070ec00"
      },
      "outputs": [
        {
          "output_type": "stream",
          "name": "stdout",
          "text": [
            "Mounted at /content/gdrive\n"
          ]
        }
      ],
      "source": [
        "from google.colab import drive\n",
        "\n",
        "drive.mount('/content/gdrive')"
      ]
    },
    {
      "cell_type": "code",
      "source": [
        "import os\n",
        "print(os.getcwd())\n",
        "os.chdir(\"/content/gdrive/My Drive/Colab Notebooks/NewVersion\")\n",
        "print(os.getcwd())"
      ],
      "metadata": {
        "colab": {
          "base_uri": "https://localhost:8080/"
        },
        "id": "EjNzIFA9BJlO",
        "outputId": "0b9456e7-d917-4bea-f40f-bd6ddf7f3e9c"
      },
      "execution_count": 2,
      "outputs": [
        {
          "output_type": "stream",
          "name": "stdout",
          "text": [
            "/content\n",
            "/content/gdrive/My Drive/Colab Notebooks/NewVersion\n"
          ]
        }
      ]
    },
    {
      "cell_type": "code",
      "source": [
        "import torch"
      ],
      "metadata": {
        "id": "5-tQ9BuXBQa3"
      },
      "execution_count": 3,
      "outputs": []
    },
    {
      "cell_type": "code",
      "source": [
        "def parameters_list(model_name):\n",
        "  model = torch.load(model_name)\n",
        "  tensor_list = list(model.items())\n",
        "  total_sum = 0\n",
        "  total_sum_KSI = 0\n",
        "  for layer_tensor_name, tensor in tensor_list:\n",
        "      if \"vattention\" not in layer_tensor_name and \"layer2\" not in layer_tensor_name and \"embedding.\" not in layer_tensor_name:\n",
        "        total_sum = torch.numel(tensor) + total_sum\n",
        "      total_sum_KSI = torch.numel(tensor) + total_sum_KSI\n",
        "      print('Layer {}: {} elements, {} shape'.format(layer_tensor_name, torch.numel(tensor), tensor.size()))\n",
        "  print('Number of parameters without KSI for', model_name, total_sum)\n",
        "  print('Number of parameters with KSI for', model_name, total_sum_KSI)"
      ],
      "metadata": {
        "id": "J3Hvy0ptB5vo"
      },
      "execution_count": 4,
      "outputs": []
    },
    {
      "cell_type": "code",
      "source": [
        "parameters_list(\"CAML_model_new\")"
      ],
      "metadata": {
        "colab": {
          "base_uri": "https://localhost:8080/"
        },
        "id": "_aHta2kiBtf3",
        "outputId": "bbaf21e3-fb5c-4b30-96d3-a84f41da468e"
      },
      "execution_count": 5,
      "outputs": [
        {
          "output_type": "stream",
          "name": "stdout",
          "text": [
            "Layer word_embeddings.weight: 4796200 elements, torch.Size([47962, 100]) shape\n",
            "Layer convs1.weight: 300000 elements, torch.Size([300, 100, 10]) shape\n",
            "Layer convs1.bias: 300 elements, torch.Size([300]) shape\n",
            "Layer H.weight: 103200 elements, torch.Size([344, 300]) shape\n",
            "Layer H.bias: 344 elements, torch.Size([344]) shape\n",
            "Layer final.weight: 103200 elements, torch.Size([344, 300]) shape\n",
            "Layer final.bias: 344 elements, torch.Size([344]) shape\n",
            "Layer layer2.weight: 100 elements, torch.Size([1, 100]) shape\n",
            "Layer layer2.bias: 1 elements, torch.Size([1]) shape\n",
            "Layer embedding.weight: 1288100 elements, torch.Size([100, 12881]) shape\n",
            "Layer vattention.weight: 10000 elements, torch.Size([100, 100]) shape\n",
            "Layer vattention.bias: 100 elements, torch.Size([100]) shape\n",
            "Number of parameters without KSI for CAML_model_new 5303588\n",
            "Number of parameters with KSI for CAML_model_new 6601889\n"
          ]
        }
      ]
    },
    {
      "cell_type": "code",
      "source": [
        "parameters_list(\"CNN_model_new\")"
      ],
      "metadata": {
        "colab": {
          "base_uri": "https://localhost:8080/"
        },
        "id": "Tg4RkNA6D_1A",
        "outputId": "f0d7ac6a-d249-4ed8-ad6e-7d841542ec25"
      },
      "execution_count": 6,
      "outputs": [
        {
          "output_type": "stream",
          "name": "stdout",
          "text": [
            "Layer word_embeddings.weight: 4796200 elements, torch.Size([47962, 100]) shape\n",
            "Layer hidden2tag.weight: 103200 elements, torch.Size([344, 300]) shape\n",
            "Layer hidden2tag.bias: 344 elements, torch.Size([344]) shape\n",
            "Layer convs1.weight: 30000 elements, torch.Size([100, 100, 3]) shape\n",
            "Layer convs1.bias: 100 elements, torch.Size([100]) shape\n",
            "Layer convs2.weight: 40000 elements, torch.Size([100, 100, 4]) shape\n",
            "Layer convs2.bias: 100 elements, torch.Size([100]) shape\n",
            "Layer convs3.weight: 50000 elements, torch.Size([100, 100, 5]) shape\n",
            "Layer convs3.bias: 100 elements, torch.Size([100]) shape\n",
            "Layer layer2.weight: 100 elements, torch.Size([1, 100]) shape\n",
            "Layer embedding.weight: 1288100 elements, torch.Size([100, 12881]) shape\n",
            "Layer embedding.bias: 100 elements, torch.Size([100]) shape\n",
            "Layer vattention.weight: 10000 elements, torch.Size([100, 100]) shape\n",
            "Layer vattention.bias: 100 elements, torch.Size([100]) shape\n",
            "Number of parameters without KSI for CNN_model_new 5020044\n",
            "Number of parameters with KSI for CNN_model_new 6318444\n"
          ]
        }
      ]
    },
    {
      "cell_type": "code",
      "source": [
        "parameters_list(\"LSTM_model_new\")"
      ],
      "metadata": {
        "colab": {
          "base_uri": "https://localhost:8080/"
        },
        "id": "ca0xixSsESAD",
        "outputId": "66d5621e-de95-465d-8eb3-34fd7b599e88"
      },
      "execution_count": 7,
      "outputs": [
        {
          "output_type": "stream",
          "name": "stdout",
          "text": [
            "Layer word_embeddings.weight: 4796200 elements, torch.Size([47962, 100]) shape\n",
            "Layer lstm.weight_ih_l0: 80000 elements, torch.Size([800, 100]) shape\n",
            "Layer lstm.weight_hh_l0: 160000 elements, torch.Size([800, 200]) shape\n",
            "Layer lstm.bias_ih_l0: 800 elements, torch.Size([800]) shape\n",
            "Layer lstm.bias_hh_l0: 800 elements, torch.Size([800]) shape\n",
            "Layer hidden2tag.weight: 68800 elements, torch.Size([344, 200]) shape\n",
            "Layer hidden2tag.bias: 344 elements, torch.Size([344]) shape\n",
            "Layer layer2.weight: 100 elements, torch.Size([1, 100]) shape\n",
            "Layer embedding.weight: 1288100 elements, torch.Size([100, 12881]) shape\n",
            "Layer embedding.bias: 100 elements, torch.Size([100]) shape\n",
            "Layer vattention.weight: 10000 elements, torch.Size([100, 100]) shape\n",
            "Number of parameters without KSI for LSTM_model_new 5106944\n",
            "Number of parameters with KSI for LSTM_model_new 6405244\n"
          ]
        }
      ]
    },
    {
      "cell_type": "code",
      "source": [
        "parameters_list(\"LSTMattn_model_new\")"
      ],
      "metadata": {
        "colab": {
          "base_uri": "https://localhost:8080/"
        },
        "id": "Pa7YzriNEZUc",
        "outputId": "6b8b114e-c922-4d3f-f782-4ffda65e8fc4"
      },
      "execution_count": 8,
      "outputs": [
        {
          "output_type": "stream",
          "name": "stdout",
          "text": [
            "Layer word_embeddings.weight: 4796200 elements, torch.Size([47962, 100]) shape\n",
            "Layer lstm.weight_ih_l0: 80000 elements, torch.Size([800, 100]) shape\n",
            "Layer lstm.weight_hh_l0: 160000 elements, torch.Size([800, 200]) shape\n",
            "Layer lstm.bias_ih_l0: 800 elements, torch.Size([800]) shape\n",
            "Layer lstm.bias_hh_l0: 800 elements, torch.Size([800]) shape\n",
            "Layer H.weight: 68800 elements, torch.Size([344, 200]) shape\n",
            "Layer H.bias: 344 elements, torch.Size([344]) shape\n",
            "Layer final.weight: 68800 elements, torch.Size([344, 200]) shape\n",
            "Layer final.bias: 344 elements, torch.Size([344]) shape\n",
            "Layer layer2.weight: 100 elements, torch.Size([1, 100]) shape\n",
            "Layer embedding.weight: 1288100 elements, torch.Size([100, 12881]) shape\n",
            "Layer embedding.bias: 100 elements, torch.Size([100]) shape\n",
            "Layer vattention.weight: 10000 elements, torch.Size([100, 100]) shape\n",
            "Number of parameters without KSI for LSTMattn_model_new 5176088\n",
            "Number of parameters with KSI for LSTMattn_model_new 6474388\n"
          ]
        }
      ]
    }
  ]
}